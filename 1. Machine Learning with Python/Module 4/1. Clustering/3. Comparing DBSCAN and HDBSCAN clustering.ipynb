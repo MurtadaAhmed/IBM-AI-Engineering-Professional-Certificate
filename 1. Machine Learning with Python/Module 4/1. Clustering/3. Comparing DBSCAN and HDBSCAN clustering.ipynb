{
 "cells": [
  {
   "cell_type": "code",
   "id": "initial_id",
   "metadata": {
    "collapsed": true
   },
   "source": [
    "from IPython.core.pylabtools import figsize\n",
    "!pip install numpy\n",
    "!pip install pandas\n",
    "!pip install matplotlib\n",
    "!pip install scikit-learn\n",
    "!pip install hdbscan\n",
    "!pip install geopandas\n",
    "!pip install contextily\n",
    "!pip install shapely"
   ],
   "outputs": [],
   "execution_count": null
  },
  {
   "metadata": {
    "ExecuteTime": {
     "end_time": "2025-05-21T16:12:36.288008Z",
     "start_time": "2025-05-21T16:12:35.385055Z"
    }
   },
   "cell_type": "code",
   "source": [
    "import numpy as np\n",
    "import pandas as pd\n",
    "import matplotlib.pyplot as plt\n",
    "from sklearn.cluster import DBSCAN\n",
    "import hdbscan\n",
    "from sklearn.preprocessing import StandardScaler\n",
    "from geopandas import gpd\n",
    "import contextily as ctx\n",
    "from shapely.geometry import Point\n",
    "import warnings\n",
    "warnings.filterwarnings('ignore')"
   ],
   "id": "e726d76cc46478dd",
   "outputs": [],
   "execution_count": 4
  },
  {
   "metadata": {},
   "cell_type": "markdown",
   "source": "**Download the Canada map for reference**",
   "id": "fd77ddfe0e1a64f8"
  },
  {
   "metadata": {
    "ExecuteTime": {
     "end_time": "2025-05-21T16:18:11.603178Z",
     "start_time": "2025-05-21T16:18:09.326741Z"
    }
   },
   "cell_type": "code",
   "source": [
    "import requests\n",
    "import zipfile\n",
    "import io\n",
    "import os\n",
    "\n",
    "zip_file_url = \"https://cf-courses-data.s3.us.cloud-object-storage.appdomain.cloud/YcUk-ytgrPkmvZAh5bf7zA/Canada.zip\"\n",
    "output_dir = \"/\"\n",
    "os.makedirs(output_dir, exist_ok=True)\n",
    "\n",
    "# download zip file\n",
    "response = requests.get(zip_file_url)\n",
    "response.raise_for_status()\n",
    "\n",
    "with zipfile.ZipFile(io.BytesIO(response.content)) as zip_ref:\n",
    "    for file_name in zip_ref.namelist():\n",
    "        if file_name.endswith(\".tif\"):\n",
    "            zip_ref.extract(file_name, output_dir)\n",
    "            print(f\"Downloaded and extracted: {file_name}\")"
   ],
   "id": "458e9ea3696b44f9",
   "outputs": [
    {
     "name": "stdout",
     "output_type": "stream",
     "text": [
      "Downloaded and extracted: Canada.tif\n"
     ]
    }
   ],
   "execution_count": 5
  },
  {
   "metadata": {},
   "cell_type": "markdown",
   "source": "**Include a plotting function**",
   "id": "2541b29ebba64bc1"
  },
  {
   "metadata": {
    "ExecuteTime": {
     "end_time": "2025-05-21T16:38:16.117513Z",
     "start_time": "2025-05-21T16:38:16.104655Z"
    }
   },
   "cell_type": "code",
   "source": [
    "def plot_clustered_locations(df, title=\"Museums Clustered by Proximity\"):\n",
    "    gdf = gpd.GeoDataFrame(df, geometry=gpd.points_from_xy(df['Longitude'], df['Latitude']), crs=\"EPSG:4326\")\n",
    "    gdf = gdf.to_crs(epsg=3857)\n",
    "    fig, ax = plt.subplot(figsize=(15,10))\n",
    "    non_noise = gdf[gdf['Cluster'] != -1]\n",
    "    noise = gdf[gdf['Cluster'] == -1]\n",
    "    noise.plot(ax=ax, color='k', markersize=30, ec='r', alpha=1, label='Noise')\n",
    "    non_noise.plot(ax=ax, column='Cluster', cmap='tab10', markersize=30, ec='k', legend=False, alpha=0.6)\n",
    "    ctx.add_basemap(ax, source='./Canada.tif', zoom=4)\n",
    "\n",
    "    plt.title(title, )\n",
    "    plt.xlabel('Longitude', )\n",
    "    plt.ylabel('Latitude', )\n",
    "    ax.set_xticks([])\n",
    "    ax.set_yticks([])\n",
    "    plt.tight_layout()\n",
    "    plt.show()"
   ],
   "id": "62cce88de6159171",
   "outputs": [],
   "execution_count": 6
  },
  {
   "metadata": {
    "ExecuteTime": {
     "end_time": "2025-05-21T16:50:11.096864Z",
     "start_time": "2025-05-21T16:50:10.892751Z"
    }
   },
   "cell_type": "code",
   "source": [
    "url = 'ODCAF_v1.0.csv'\n",
    "df = pd.read_csv(url, encoding = \"ISO-8859-1\")"
   ],
   "id": "e6968dd1de3ff8ba",
   "outputs": [],
   "execution_count": 7
  },
  {
   "metadata": {
    "ExecuteTime": {
     "end_time": "2025-05-21T16:50:28.494031Z",
     "start_time": "2025-05-21T16:50:28.428110Z"
    }
   },
   "cell_type": "code",
   "source": "df.head()",
   "id": "ca312533cddb23d1",
   "outputs": [
    {
     "data": {
      "text/plain": [
       "   Index                      Facility_Name            Source_Facility_Type  \\\n",
       "0      1                   #Hashtag Gallery                              ..   \n",
       "1      2  'Ksan Historical Village & Museum  historic site-building or park   \n",
       "2      3               'School Days' Museum       community/regional museum   \n",
       "3      4                   10 Austin Street       built heritage properties   \n",
       "4      5              10 Gates Dancing Inc.                            arts   \n",
       "\n",
       "         ODCAF_Facility_Type                      Provider Unit Street_No  \\\n",
       "0                    gallery                       toronto   ..       801   \n",
       "1                     museum  canadian museums association   ..      1500   \n",
       "2                     museum  canadian museums association   ..       427   \n",
       "3  heritage or historic site                       moncton   ..        10   \n",
       "4              miscellaneous                        ottawa   ..        ..   \n",
       "\n",
       "   Street_Name Postal_Code         City Prov_Terr  \\\n",
       "0  dundas st w     M6J 1V2      toronto        on   \n",
       "1       62 hwy     V0J 1Y0     hazelton        bc   \n",
       "2     queen st     E3B 5R6  fredericton        nb   \n",
       "3    austin st     E1C 1Z6      moncton        nb   \n",
       "4           ..          ..       ottawa        on   \n",
       "\n",
       "                               Source_Format_Address     CSD_Name   CSDUID  \\\n",
       "0                                    801 dundas st w      Toronto  3520005   \n",
       "1  1500 hwy 62 hazelton british columbia v0j 1y0 ...     Hazelton  5949022   \n",
       "2  427 queen st fredericton new brunswick e3b 5r6...  Fredericton  1310032   \n",
       "3                                       10 austin st      Moncton  1307022   \n",
       "4                                                 ..       Ottawa  3506008   \n",
       "\n",
       "  PRUID     Latitude     Longitude  \n",
       "0    35  43.65169472  -79.40803272  \n",
       "1    59   55.2645508  -127.6428124  \n",
       "2    13    45.963283   -66.6419017  \n",
       "3    13  46.09247776  -64.78022946  \n",
       "4    35  45.40856224  -75.71536766  "
      ],
      "text/html": [
       "<div>\n",
       "<style scoped>\n",
       "    .dataframe tbody tr th:only-of-type {\n",
       "        vertical-align: middle;\n",
       "    }\n",
       "\n",
       "    .dataframe tbody tr th {\n",
       "        vertical-align: top;\n",
       "    }\n",
       "\n",
       "    .dataframe thead th {\n",
       "        text-align: right;\n",
       "    }\n",
       "</style>\n",
       "<table border=\"1\" class=\"dataframe\">\n",
       "  <thead>\n",
       "    <tr style=\"text-align: right;\">\n",
       "      <th></th>\n",
       "      <th>Index</th>\n",
       "      <th>Facility_Name</th>\n",
       "      <th>Source_Facility_Type</th>\n",
       "      <th>ODCAF_Facility_Type</th>\n",
       "      <th>Provider</th>\n",
       "      <th>Unit</th>\n",
       "      <th>Street_No</th>\n",
       "      <th>Street_Name</th>\n",
       "      <th>Postal_Code</th>\n",
       "      <th>City</th>\n",
       "      <th>Prov_Terr</th>\n",
       "      <th>Source_Format_Address</th>\n",
       "      <th>CSD_Name</th>\n",
       "      <th>CSDUID</th>\n",
       "      <th>PRUID</th>\n",
       "      <th>Latitude</th>\n",
       "      <th>Longitude</th>\n",
       "    </tr>\n",
       "  </thead>\n",
       "  <tbody>\n",
       "    <tr>\n",
       "      <th>0</th>\n",
       "      <td>1</td>\n",
       "      <td>#Hashtag Gallery</td>\n",
       "      <td>..</td>\n",
       "      <td>gallery</td>\n",
       "      <td>toronto</td>\n",
       "      <td>..</td>\n",
       "      <td>801</td>\n",
       "      <td>dundas st w</td>\n",
       "      <td>M6J 1V2</td>\n",
       "      <td>toronto</td>\n",
       "      <td>on</td>\n",
       "      <td>801 dundas st w</td>\n",
       "      <td>Toronto</td>\n",
       "      <td>3520005</td>\n",
       "      <td>35</td>\n",
       "      <td>43.65169472</td>\n",
       "      <td>-79.40803272</td>\n",
       "    </tr>\n",
       "    <tr>\n",
       "      <th>1</th>\n",
       "      <td>2</td>\n",
       "      <td>'Ksan Historical Village &amp; Museum</td>\n",
       "      <td>historic site-building or park</td>\n",
       "      <td>museum</td>\n",
       "      <td>canadian museums association</td>\n",
       "      <td>..</td>\n",
       "      <td>1500</td>\n",
       "      <td>62 hwy</td>\n",
       "      <td>V0J 1Y0</td>\n",
       "      <td>hazelton</td>\n",
       "      <td>bc</td>\n",
       "      <td>1500 hwy 62 hazelton british columbia v0j 1y0 ...</td>\n",
       "      <td>Hazelton</td>\n",
       "      <td>5949022</td>\n",
       "      <td>59</td>\n",
       "      <td>55.2645508</td>\n",
       "      <td>-127.6428124</td>\n",
       "    </tr>\n",
       "    <tr>\n",
       "      <th>2</th>\n",
       "      <td>3</td>\n",
       "      <td>'School Days' Museum</td>\n",
       "      <td>community/regional museum</td>\n",
       "      <td>museum</td>\n",
       "      <td>canadian museums association</td>\n",
       "      <td>..</td>\n",
       "      <td>427</td>\n",
       "      <td>queen st</td>\n",
       "      <td>E3B 5R6</td>\n",
       "      <td>fredericton</td>\n",
       "      <td>nb</td>\n",
       "      <td>427 queen st fredericton new brunswick e3b 5r6...</td>\n",
       "      <td>Fredericton</td>\n",
       "      <td>1310032</td>\n",
       "      <td>13</td>\n",
       "      <td>45.963283</td>\n",
       "      <td>-66.6419017</td>\n",
       "    </tr>\n",
       "    <tr>\n",
       "      <th>3</th>\n",
       "      <td>4</td>\n",
       "      <td>10 Austin Street</td>\n",
       "      <td>built heritage properties</td>\n",
       "      <td>heritage or historic site</td>\n",
       "      <td>moncton</td>\n",
       "      <td>..</td>\n",
       "      <td>10</td>\n",
       "      <td>austin st</td>\n",
       "      <td>E1C 1Z6</td>\n",
       "      <td>moncton</td>\n",
       "      <td>nb</td>\n",
       "      <td>10 austin st</td>\n",
       "      <td>Moncton</td>\n",
       "      <td>1307022</td>\n",
       "      <td>13</td>\n",
       "      <td>46.09247776</td>\n",
       "      <td>-64.78022946</td>\n",
       "    </tr>\n",
       "    <tr>\n",
       "      <th>4</th>\n",
       "      <td>5</td>\n",
       "      <td>10 Gates Dancing Inc.</td>\n",
       "      <td>arts</td>\n",
       "      <td>miscellaneous</td>\n",
       "      <td>ottawa</td>\n",
       "      <td>..</td>\n",
       "      <td>..</td>\n",
       "      <td>..</td>\n",
       "      <td>..</td>\n",
       "      <td>ottawa</td>\n",
       "      <td>on</td>\n",
       "      <td>..</td>\n",
       "      <td>Ottawa</td>\n",
       "      <td>3506008</td>\n",
       "      <td>35</td>\n",
       "      <td>45.40856224</td>\n",
       "      <td>-75.71536766</td>\n",
       "    </tr>\n",
       "  </tbody>\n",
       "</table>\n",
       "</div>"
      ]
     },
     "execution_count": 8,
     "metadata": {},
     "output_type": "execute_result"
    }
   ],
   "execution_count": 8
  },
  {
   "metadata": {
    "ExecuteTime": {
     "end_time": "2025-05-21T16:51:29.882290Z",
     "start_time": "2025-05-21T16:51:29.745641Z"
    }
   },
   "cell_type": "code",
   "source": "df.ODCAF_Facility_Type.value_counts()",
   "id": "33342fd396c88e18",
   "outputs": [
    {
     "data": {
      "text/plain": [
       "ODCAF_Facility_Type\n",
       "library or archives                     3013\n",
       "museum                                  1938\n",
       "gallery                                  810\n",
       "heritage or historic site                620\n",
       "theatre/performance and concert hall     583\n",
       "festival site                            346\n",
       "miscellaneous                            343\n",
       "art or cultural centre                   225\n",
       "artist                                    94\n",
       "Name: count, dtype: int64"
      ]
     },
     "execution_count": 9,
     "metadata": {},
     "output_type": "execute_result"
    }
   ],
   "execution_count": 9
  },
  {
   "metadata": {
    "ExecuteTime": {
     "end_time": "2025-05-21T16:52:50.038284Z",
     "start_time": "2025-05-21T16:52:49.946796Z"
    }
   },
   "cell_type": "code",
   "source": [
    "df = df[df.ODCAF_Facility_Type == 'museum']\n",
    "df.ODCAF_Facility_Type.value_counts()"
   ],
   "id": "c8d68a2c4379849c",
   "outputs": [
    {
     "data": {
      "text/plain": [
       "ODCAF_Facility_Type\n",
       "museum    1938\n",
       "Name: count, dtype: int64"
      ]
     },
     "execution_count": 10,
     "metadata": {},
     "output_type": "execute_result"
    }
   ],
   "execution_count": 10
  },
  {
   "metadata": {
    "ExecuteTime": {
     "end_time": "2025-05-21T16:53:59.980263Z",
     "start_time": "2025-05-21T16:53:59.796383Z"
    }
   },
   "cell_type": "code",
   "source": [
    "df = df[['Latitude', 'Longitude']]\n",
    "df.info()"
   ],
   "id": "e7bcf3770a7db9a",
   "outputs": [
    {
     "name": "stdout",
     "output_type": "stream",
     "text": [
      "<class 'pandas.core.frame.DataFrame'>\n",
      "Index: 1938 entries, 1 to 7969\n",
      "Data columns (total 2 columns):\n",
      " #   Column     Non-Null Count  Dtype \n",
      "---  ------     --------------  ----- \n",
      " 0   Latitude   1938 non-null   object\n",
      " 1   Longitude  1938 non-null   object\n",
      "dtypes: object(2)\n",
      "memory usage: 45.4+ KB\n"
     ]
    }
   ],
   "execution_count": 11
  },
  {
   "metadata": {
    "ExecuteTime": {
     "end_time": "2025-05-21T16:55:45.019582Z",
     "start_time": "2025-05-21T16:55:45.004716Z"
    }
   },
   "cell_type": "code",
   "source": [
    "df = df[df.Latitude != '..']\n",
    "df[['Latitude', 'Longitude']] = df[['Latitude', 'Longitude']].astype('float')"
   ],
   "id": "329695370ed8fd11",
   "outputs": [],
   "execution_count": 12
  },
  {
   "metadata": {},
   "cell_type": "markdown",
   "source": "**Build a DBSCAN model**",
   "id": "1f0a4cae1db1d45d"
  }
 ],
 "metadata": {
  "kernelspec": {
   "display_name": "Python 3",
   "language": "python",
   "name": "python3"
  },
  "language_info": {
   "codemirror_mode": {
    "name": "ipython",
    "version": 2
   },
   "file_extension": ".py",
   "mimetype": "text/x-python",
   "name": "python",
   "nbconvert_exporter": "python",
   "pygments_lexer": "ipython2",
   "version": "2.7.6"
  }
 },
 "nbformat": 4,
 "nbformat_minor": 5
}
