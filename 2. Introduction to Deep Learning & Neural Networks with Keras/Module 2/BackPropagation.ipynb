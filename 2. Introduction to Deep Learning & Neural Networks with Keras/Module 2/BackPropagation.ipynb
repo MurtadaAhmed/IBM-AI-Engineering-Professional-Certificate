{
 "cells": [
  {
   "cell_type": "code",
   "id": "initial_id",
   "metadata": {
    "collapsed": true,
    "ExecuteTime": {
     "end_time": "2025-06-15T10:09:14.378153Z",
     "start_time": "2025-06-15T10:09:14.371531Z"
    }
   },
   "source": [
    "import numpy as np\n",
    "import matplotlib.pyplot as plt"
   ],
   "outputs": [],
   "execution_count": 5
  },
  {
   "metadata": {
    "ExecuteTime": {
     "end_time": "2025-06-15T10:09:14.634689Z",
     "start_time": "2025-06-15T10:09:14.628065Z"
    }
   },
   "cell_type": "code",
   "source": [
    "X = np.array([[0, 0], [0, 1], [1, 0], [1, 1]]).T\n",
    "d = np.array([0, 1, 1, 0])"
   ],
   "id": "f297c6d20ed7bc53",
   "outputs": [],
   "execution_count": 6
  },
  {
   "metadata": {
    "ExecuteTime": {
     "end_time": "2025-06-15T10:23:09.294181Z",
     "start_time": "2025-06-15T10:23:09.285301Z"
    }
   },
   "cell_type": "code",
   "source": [
    "print(X)\n",
    "print(X.shape)"
   ],
   "id": "1009d51579fe1749",
   "outputs": [
    {
     "name": "stdout",
     "output_type": "stream",
     "text": [
      "[[0 0 1 1]\n",
      " [0 1 0 1]]\n",
      "(2, 4)\n"
     ]
    }
   ],
   "execution_count": 15
  },
  {
   "metadata": {
    "ExecuteTime": {
     "end_time": "2025-06-15T10:09:14.898967Z",
     "start_time": "2025-06-15T10:09:14.892359Z"
    }
   },
   "cell_type": "code",
   "source": [
    "input_size = 2\n",
    "hidden_size = 2\n",
    "output_size = 1\n",
    "lr = 0.1\n",
    "epochs = 180000"
   ],
   "id": "7ecb0bbc6ad2b545",
   "outputs": [],
   "execution_count": 7
  },
  {
   "metadata": {
    "ExecuteTime": {
     "end_time": "2025-06-15T10:09:15.392947Z",
     "start_time": "2025-06-15T10:09:15.143599Z"
    }
   },
   "cell_type": "code",
   "source": [
    "w1 = np.random.rand(hidden_size, input_size) * 2 - 1\n",
    "b1 = np.random.rand(hidden_size, 1) * 2 - 1\n",
    "w2 = np.random.rand(output_size, hidden_size) * 2 - 1\n",
    "b2 = np.random.rand(output_size, 1) * 2 - 1\n",
    "print(\"w1\", w1)\n",
    "print(\"b1\", b1)\n",
    "print(\"w2\", w2)\n",
    "print(\"b\", b2)"
   ],
   "id": "75e0c9ee143cde7e",
   "outputs": [
    {
     "name": "stdout",
     "output_type": "stream",
     "text": [
      "w1 [[-0.19145295 -0.21788836]\n",
      " [-0.95494149  0.14123744]]\n",
      "b1 [[ 0.75730583]\n",
      " [-0.56293007]]\n",
      "w2 [[-0.78423615  0.92346352]]\n",
      "b [[0.71355071]]\n"
     ]
    }
   ],
   "execution_count": 8
  },
  {
   "metadata": {
    "ExecuteTime": {
     "end_time": "2025-06-15T10:09:22.775392Z",
     "start_time": "2025-06-15T10:09:15.449297Z"
    }
   },
   "cell_type": "code",
   "source": [
    "error_list = []\n",
    "\n",
    "for epoch in range(epochs):\n",
    "    # forward pass\n",
    "    z1 = np.dot(w1, X) + b1 # weighted sum for hidden layer\n",
    "    a1 = 1 / (1 + np.exp(-z1)) # sigmoid activation for hidden layer\n",
    "\n",
    "    z2 = np.dot(w2, a1) + b2 # weighted sum for output layer\n",
    "    a2 = 1/ (1 + np.exp(-z2)) # sigmoid activation for output layer\n",
    "    # error calculation\n",
    "    error = d - a2 # difference between expected and actual value\n",
    "    da2 = error * (a2 * (1 - a2)) # derivative for output layer\n",
    "    dz2 = da2 # gradient for output layer\n",
    "\n",
    "    # propagate error to hidden layer\n",
    "    da1 = np.dot(w2.T, dz2) # gradient for hidden layer\n",
    "    dz1 = da1 * (a1 * (1 - a1)) # derivative for hidden layer\n",
    "\n",
    "    # update weights and biases\n",
    "    w2 += lr * np.dot(dz2, a1.T)\n",
    "    b2 += lr * np.sum(dz2, axis=1, keepdims=True)\n",
    "\n",
    "    w1 += lr * np.dot(dz1, X.T)\n",
    "    b1 += lr * np.sum(dz1, axis=1, keepdims=True)\n",
    "\n",
    "    if (epoch + 1) % 10000 == 0:\n",
    "        print(f\"Epoch {epoch}. Average Error: {np.average(abs(error))}\")\n",
    "        error_list.append(np.average(abs(error)))"
   ],
   "id": "d16b80125b14be5c",
   "outputs": [
    {
     "name": "stdout",
     "output_type": "stream",
     "text": [
      "Epoch 9999. Average Error: 0.04569301940032285\n",
      "Epoch 19999. Average Error: 0.028514195121828456\n",
      "Epoch 29999. Average Error: 0.02229264311868099\n",
      "Epoch 39999. Average Error: 0.01886588593270097\n",
      "Epoch 49999. Average Error: 0.016628808103381135\n",
      "Epoch 59999. Average Error: 0.015024675323018656\n",
      "Epoch 69999. Average Error: 0.013803503883344694\n",
      "Epoch 79999. Average Error: 0.01283445166988752\n",
      "Epoch 89999. Average Error: 0.012041622910213459\n",
      "Epoch 99999. Average Error: 0.011377608178312335\n",
      "Epoch 109999. Average Error: 0.01081108367672333\n",
      "Epoch 119999. Average Error: 0.010320422214326887\n",
      "Epoch 129999. Average Error: 0.00989015203120368\n",
      "Epoch 139999. Average Error: 0.009508876424415997\n",
      "Epoch 149999. Average Error: 0.00916799204100789\n",
      "Epoch 159999. Average Error: 0.00886086730809\n",
      "Epoch 169999. Average Error: 0.008582297841681824\n",
      "Epoch 179999. Average Error: 0.008328134912321641\n"
     ]
    }
   ],
   "execution_count": 9
  },
  {
   "metadata": {
    "ExecuteTime": {
     "end_time": "2025-06-15T10:09:22.793057Z",
     "start_time": "2025-06-15T10:09:22.786868Z"
    }
   },
   "cell_type": "code",
   "source": [
    "# testing the trained network\n",
    "z1 = np.dot(w1, X) + b1\n",
    "a1 = 1 / (1 + np.exp(-z1))\n",
    "\n",
    "z2 = np.dot(w2, a1) + b2\n",
    "a2 = 1 / (1 + np.exp(-z2))\n",
    "\n",
    "print(f\"Final output after training: {a2}\")\n",
    "print(f\"Ground truth: {d}\")\n",
    "print(f\"Error after training: {error}\")\n",
    "print(f\"Average error {np.average(abs(error)):.5f}\")"
   ],
   "id": "e07025017050c349",
   "outputs": [
    {
     "name": "stdout",
     "output_type": "stream",
     "text": [
      "Final output after training: [[0.00837554 0.99210732 0.99042491 0.00746914]]\n",
      "Ground truth: [0 1 1 0]\n",
      "Error after training: [[-0.00837556  0.0078927   0.00957512 -0.00746916]]\n",
      "Average error 0.00833\n"
     ]
    }
   ],
   "execution_count": 10
  },
  {
   "metadata": {
    "ExecuteTime": {
     "end_time": "2025-06-15T10:09:23.336306Z",
     "start_time": "2025-06-15T10:09:22.824029Z"
    }
   },
   "cell_type": "code",
   "source": [
    "plt.plot(error_list)\n",
    "plt.title('Error')\n",
    "plt.xlabel('Epochs')\n",
    "plt.ylabel('Error')\n",
    "plt.show()"
   ],
   "id": "eef7b0d67f2862be",
   "outputs": [
    {
     "data": {
      "text/plain": [
       "<Figure size 640x480 with 1 Axes>"
      ],
      "image/png": "[encoded data removed]"
     },
     "metadata": {},
     "output_type": "display_data"
    }
   ],
   "execution_count": 11
  },
  {
   "metadata": {
    "ExecuteTime": {
     "end_time": "2025-06-15T10:09:30.742503Z",
     "start_time": "2025-06-15T10:09:23.350990Z"
    }
   },
   "cell_type": "code",
   "source": [
    "X = np.array([[0, 0], [0, 1], [1, 0], [1, 1]]).T  # 2x4 matrix, each column is a training example\n",
    "d = np.array([0, 0, 0, 1])  # Expected output for AND\n",
    "\n",
    "# Training the network using backpropagation\n",
    "error_list = []\n",
    "for epoch in range(epochs):\n",
    "    # Forward pass\n",
    "    z1 = np.dot(w1, X) + b1  # Weighted sum for hidden layer\n",
    "    a1 = 1 / (1 + np.exp(-z1))  # Sigmoid activation for hidden layer\n",
    "\n",
    "    z2 = np.dot(w2, a1) + b2  # Weighted sum for output layer\n",
    "    a2 = 1 / (1 + np.exp(-z2))  # Sigmoid activation for output layer\n",
    "\n",
    "    # Error calculation and backpropagation\n",
    "    error = d - a2  # Difference between expected and actual output\n",
    "    da2 = error * (a2 * (1 - a2))  # Derivative for output layer\n",
    "    dz2 = da2  # Gradient for output layer\n",
    "\n",
    "    # Propagate error to hidden layer\n",
    "    da1 = np.dot(w2.T, dz2)  # Gradient for hidden layer\n",
    "    dz1 = da1 * (a1 * (1 - a1))  # Derivative for hidden layer\n",
    "\n",
    "    # Update weights and biases\n",
    "    w2 += lr * np.dot(dz2, a1.T)  # Update weights from hidden to output layer\n",
    "    b2 += lr * np.sum(dz2, axis=1, keepdims=True)  # Update bias for output layer\n",
    "\n",
    "    w1 += lr * np.dot(dz1, X.T)  # Update weights from input to hidden layer\n",
    "    b1 += lr * np.sum(dz1, axis=1, keepdims=True)  # Update bias for hidden layer\n",
    "    if (epoch+1)%10000 == 0:\n",
    "        print(\"Epoch: %d, Average error: %0.05f\"%(epoch, np.average(abs(error))))\n",
    "        error_list.append(np.average(abs(error)))\n",
    "\n",
    "\n",
    "# Testing the trained network\n",
    "z1 = np.dot(w1, X) + b1  # Weighted sum for hidden layer\n",
    "a1 = 1 / (1 + np.exp(-z1))  # Sigmoid activation for hidden layer\n",
    "\n",
    "z2 = np.dot(w2, a1) + b2  # Weighted sum for output layer\n",
    "a2 = 1 / (1 + np.exp(-z2))  # Sigmoid activation for output layer\n",
    "\n",
    "# Print results\n",
    "print('\\nFinal output after training:', a2)\n",
    "print('Ground truth', d)\n",
    "print('Error after training:', error)\n",
    "print('Average error: %0.05f'%np.average(abs(error)))\n",
    "\n",
    "# Plot error\n",
    "plt.plot(error_list)\n",
    "plt.title('Error')\n",
    "plt.xlabel('Epochs')\n",
    "plt.ylabel('Error')\n",
    "plt.show()"
   ],
   "id": "7537d4bfbd4f67b6",
   "outputs": [
    {
     "name": "stdout",
     "output_type": "stream",
     "text": [
      "Epoch: 9999, Average error: 0.25297\n",
      "Epoch: 19999, Average error: 0.25227\n",
      "Epoch: 29999, Average error: 0.25203\n",
      "Epoch: 39999, Average error: 0.25195\n",
      "Epoch: 49999, Average error: 0.25198\n",
      "Epoch: 59999, Average error: 0.25210\n",
      "Epoch: 69999, Average error: 0.25237\n",
      "Epoch: 79999, Average error: 0.25299\n",
      "Epoch: 89999, Average error: 0.25519\n",
      "Epoch: 99999, Average error: 0.37549\n",
      "Epoch: 109999, Average error: 0.37515\n",
      "Epoch: 119999, Average error: 0.37509\n",
      "Epoch: 129999, Average error: 0.37507\n",
      "Epoch: 139999, Average error: 0.37505\n",
      "Epoch: 149999, Average error: 0.37504\n",
      "Epoch: 159999, Average error: 0.37504\n",
      "Epoch: 169999, Average error: 0.37503\n",
      "Epoch: 179999, Average error: 0.37503\n",
      "\n",
      "Final output after training: [[0.24997    0.24994728 0.24994796 0.24974861]]\n",
      "Ground truth [0 0 0 1]\n",
      "Error after training: [[-0.24997    -0.24994728 -0.24994796  0.75025139]]\n",
      "Average error: 0.37503\n"
     ]
    },
    {
     "data": {
      "text/plain": [
       "<Figure size 640x480 with 1 Axes>"
      ],
      "image/png": "[encoded data removed]"
     },
     "metadata": {},
     "output_type": "display_data"
    }
   ],
   "execution_count": 12
  },
  {
   "metadata": {
    "ExecuteTime": {
     "end_time": "2025-06-15T10:11:02.747219Z",
     "start_time": "2025-06-15T10:10:15.761611Z"
    }
   },
   "cell_type": "code",
   "source": [
    "lr = 0.01         # Learning rate\n",
    "epochs = 1000000   # Number of training epochs\n",
    "\n",
    "\n",
    "# Defining inputs and expected output (XOR truth table)\n",
    "X = np.array([[0, 0], [0, 1], [1, 0], [1, 1]]).T  # 2x4 matrix, each column is a training example\n",
    "d = np.array([0, 1, 1, 0])  # Expected output for XOR\n",
    "\n",
    "\n",
    "# Training the network using backpropagation\n",
    "error_list = []\n",
    "for epoch in range(epochs):\n",
    "    # Forward pass\n",
    "    z1 = np.dot(w1, X) + b1  # Weighted sum for hidden layer\n",
    "    a1 = 1 / (1 + np.exp(-z1))  # Sigmoid activation for hidden layer\n",
    "\n",
    "    z2 = np.dot(w2, a1) + b2  # Weighted sum for output layer\n",
    "    a2 = 1 / (1 + np.exp(-z2))  # Sigmoid activation for output layer\n",
    "\n",
    "    # Error calculation and backpropagation\n",
    "    error = d - a2  # Difference between expected and actual output\n",
    "    da2 = error * (a2 * (1 - a2))  # Derivative for output layer\n",
    "    dz2 = da2  # Gradient for output layer\n",
    "\n",
    "    # Propagate error to hidden layer\n",
    "    da1 = np.dot(w2.T, dz2)  # Gradient for hidden layer\n",
    "    dz1 = da1 * (a1 * (1 - a1))  # Derivative for hidden layer\n",
    "\n",
    "    # Update weights and biases\n",
    "    w2 += lr * np.dot(dz2, a1.T)  # Update weights from hidden to output layer\n",
    "    b2 += lr * np.sum(dz2, axis=1, keepdims=True)  # Update bias for output layer\n",
    "\n",
    "    w1 += lr * np.dot(dz1, X.T)  # Update weights from input to hidden layer\n",
    "    b1 += lr * np.sum(dz1, axis=1, keepdims=True)  # Update bias for hidden layer\n",
    "    if (epoch+1)%10000 == 0:\n",
    "        print(\"Epoch: %d, Average error: %0.05f\"%(epoch, np.average(abs(error))))\n",
    "        error_list.append(np.average(abs(error)))\n",
    "\n",
    "\n",
    "# Testing the trained network\n",
    "z1 = np.dot(w1, X) + b1  # Weighted sum for hidden layer\n",
    "a1 = 1 / (1 + np.exp(-z1))  # Sigmoid activation for hidden layer\n",
    "\n",
    "z2 = np.dot(w2, a1) + b2  # Weighted sum for output layer\n",
    "a2 = 1 / (1 + np.exp(-z2))  # Sigmoid activation for output layer\n",
    "\n",
    "# Print results\n",
    "print('\\nFinal output after training:', a2)\n",
    "print('Ground truth', d)\n",
    "print('Error after training:', error)\n",
    "print('Average error: %0.05f'%np.average(abs(error)))\n",
    "\n",
    "\n",
    "# Plot error\n",
    "plt.plot(error_list)\n",
    "plt.title('Error')\n",
    "plt.xlabel('Epochs')\n",
    "plt.ylabel('Error')\n",
    "plt.show()"
   ],
   "id": "2528b18f6264cb7a",
   "outputs": [
    {
     "name": "stdout",
     "output_type": "stream",
     "text": [
      "Epoch: 9999, Average error: 0.49994\n",
      "Epoch: 19999, Average error: 0.49994\n",
      "Epoch: 29999, Average error: 0.49994\n",
      "Epoch: 39999, Average error: 0.49993\n",
      "Epoch: 49999, Average error: 0.49993\n",
      "Epoch: 59999, Average error: 0.49993\n",
      "Epoch: 69999, Average error: 0.49993\n",
      "Epoch: 79999, Average error: 0.49992\n",
      "Epoch: 89999, Average error: 0.49992\n",
      "Epoch: 99999, Average error: 0.49992\n",
      "Epoch: 109999, Average error: 0.49992\n",
      "Epoch: 119999, Average error: 0.49991\n",
      "Epoch: 129999, Average error: 0.49991\n",
      "Epoch: 139999, Average error: 0.49990\n",
      "Epoch: 149999, Average error: 0.49990\n",
      "Epoch: 159999, Average error: 0.49990\n",
      "Epoch: 169999, Average error: 0.49989\n",
      "Epoch: 179999, Average error: 0.49989\n",
      "Epoch: 189999, Average error: 0.49988\n",
      "Epoch: 199999, Average error: 0.49987\n",
      "Epoch: 209999, Average error: 0.49987\n",
      "Epoch: 219999, Average error: 0.49986\n",
      "Epoch: 229999, Average error: 0.49985\n",
      "Epoch: 239999, Average error: 0.49985\n",
      "Epoch: 249999, Average error: 0.49984\n",
      "Epoch: 259999, Average error: 0.49983\n",
      "Epoch: 269999, Average error: 0.49982\n",
      "Epoch: 279999, Average error: 0.49981\n",
      "Epoch: 289999, Average error: 0.49979\n",
      "Epoch: 299999, Average error: 0.49978\n",
      "Epoch: 309999, Average error: 0.49976\n",
      "Epoch: 319999, Average error: 0.49974\n",
      "Epoch: 329999, Average error: 0.49972\n",
      "Epoch: 339999, Average error: 0.49970\n",
      "Epoch: 349999, Average error: 0.49967\n",
      "Epoch: 359999, Average error: 0.49963\n",
      "Epoch: 369999, Average error: 0.49959\n",
      "Epoch: 379999, Average error: 0.49954\n",
      "Epoch: 389999, Average error: 0.49947\n",
      "Epoch: 399999, Average error: 0.49938\n",
      "Epoch: 409999, Average error: 0.49927\n",
      "Epoch: 419999, Average error: 0.49909\n",
      "Epoch: 429999, Average error: 0.49880\n",
      "Epoch: 439999, Average error: 0.49821\n",
      "Epoch: 449999, Average error: 0.49623\n",
      "Epoch: 459999, Average error: 0.35694\n",
      "Epoch: 469999, Average error: 0.34157\n",
      "Epoch: 479999, Average error: 0.33652\n",
      "Epoch: 489999, Average error: 0.05277\n",
      "Epoch: 499999, Average error: 0.03346\n",
      "Epoch: 509999, Average error: 0.02706\n",
      "Epoch: 519999, Average error: 0.02363\n",
      "Epoch: 529999, Average error: 0.02141\n",
      "Epoch: 539999, Average error: 0.01983\n",
      "Epoch: 549999, Average error: 0.01862\n",
      "Epoch: 559999, Average error: 0.01767\n",
      "Epoch: 569999, Average error: 0.01689\n",
      "Epoch: 579999, Average error: 0.01624\n",
      "Epoch: 589999, Average error: 0.01568\n",
      "Epoch: 599999, Average error: 0.01520\n",
      "Epoch: 609999, Average error: 0.01477\n",
      "Epoch: 619999, Average error: 0.01440\n",
      "Epoch: 629999, Average error: 0.01406\n",
      "Epoch: 639999, Average error: 0.01375\n",
      "Epoch: 649999, Average error: 0.01348\n",
      "Epoch: 659999, Average error: 0.01322\n",
      "Epoch: 669999, Average error: 0.01299\n",
      "Epoch: 679999, Average error: 0.01277\n",
      "Epoch: 689999, Average error: 0.01257\n",
      "Epoch: 699999, Average error: 0.01238\n",
      "Epoch: 709999, Average error: 0.01221\n",
      "Epoch: 719999, Average error: 0.01205\n",
      "Epoch: 729999, Average error: 0.01189\n",
      "Epoch: 739999, Average error: 0.01175\n",
      "Epoch: 749999, Average error: 0.01161\n",
      "Epoch: 759999, Average error: 0.01148\n",
      "Epoch: 769999, Average error: 0.01136\n",
      "Epoch: 779999, Average error: 0.01124\n",
      "Epoch: 789999, Average error: 0.01112\n",
      "Epoch: 799999, Average error: 0.01102\n",
      "Epoch: 809999, Average error: 0.01091\n",
      "Epoch: 819999, Average error: 0.01082\n",
      "Epoch: 829999, Average error: 0.01072\n",
      "Epoch: 839999, Average error: 0.01063\n",
      "Epoch: 849999, Average error: 0.01054\n",
      "Epoch: 859999, Average error: 0.01046\n",
      "Epoch: 869999, Average error: 0.01038\n",
      "Epoch: 879999, Average error: 0.01030\n",
      "Epoch: 889999, Average error: 0.01022\n",
      "Epoch: 899999, Average error: 0.01015\n",
      "Epoch: 909999, Average error: 0.01008\n",
      "Epoch: 919999, Average error: 0.01001\n",
      "Epoch: 929999, Average error: 0.00995\n",
      "Epoch: 939999, Average error: 0.00988\n",
      "Epoch: 949999, Average error: 0.00982\n",
      "Epoch: 959999, Average error: 0.00976\n",
      "Epoch: 969999, Average error: 0.00970\n",
      "Epoch: 979999, Average error: 0.00964\n",
      "Epoch: 989999, Average error: 0.00958\n",
      "Epoch: 999999, Average error: 0.00953\n",
      "\n",
      "Final output after training: [[0.00919963 0.9910568  0.98975725 0.00973266]]\n",
      "Ground truth [0 1 1 0]\n",
      "Error after training: [[-0.00919963  0.0089432   0.01024275 -0.00973267]]\n",
      "Average error: 0.00953\n"
     ]
    },
    {
     "data": {
      "text/plain": [
       "<Figure size 640x480 with 1 Axes>"
      ],
      "image/png": "[encoded data removed]"
     },
     "metadata": {},
     "output_type": "display_data"
    }
   ],
   "execution_count": 13
  },
  {
   "metadata": {},
   "cell_type": "code",
   "outputs": [],
   "execution_count": null,
   "source": "",
   "id": "5839726100e3dad8"
  }
 ],
 "metadata": {
  "kernelspec": {
   "display_name": "Python 3",
   "language": "python",
   "name": "python3"
  },
  "language_info": {
   "codemirror_mode": {
    "name": "ipython",
    "version": 2
   },
   "file_extension": ".py",
   "mimetype": "text/x-python",
   "name": "python",
   "nbconvert_exporter": "python",
   "pygments_lexer": "ipython2",
   "version": "2.7.6"
  }
 },
 "nbformat": 4,
 "nbformat_minor": 5
}
