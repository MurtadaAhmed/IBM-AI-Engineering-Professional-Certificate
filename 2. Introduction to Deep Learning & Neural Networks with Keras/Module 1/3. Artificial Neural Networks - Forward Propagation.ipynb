{
 "cells": [
  {
   "cell_type": "code",
   "id": "initial_id",
   "metadata": {
    "collapsed": true,
    "ExecuteTime": {
     "end_time": "2025-06-13T10:51:52.223936Z",
     "start_time": "2025-06-13T10:51:50.937766Z"
    }
   },
   "source": "import numpy as np",
   "outputs": [],
   "execution_count": 1
  },
  {
   "metadata": {
    "ExecuteTime": {
     "end_time": "2025-06-13T10:53:44.004266Z",
     "start_time": "2025-06-13T10:53:43.992653Z"
    }
   },
   "cell_type": "code",
   "source": [
    "weights = np.around(np.random.uniform(size=6), decimals=2)\n",
    "biases = np.around(np.random.uniform(size=3), decimals=2)\n",
    "print(f\"Weights: {weights}\")\n",
    "print(f\"Biases: {biases}\")"
   ],
   "id": "7c0d381a831f9258",
   "outputs": [
    {
     "name": "stdout",
     "output_type": "stream",
     "text": [
      "Weights: [0.57 0.37 0.6  0.78 0.56 0.19]\n",
      "Biases: [0.76 0.89 0.46]\n"
     ]
    }
   ],
   "execution_count": 3
  },
  {
   "metadata": {
    "ExecuteTime": {
     "end_time": "2025-06-13T11:30:29.917564Z",
     "start_time": "2025-06-13T11:30:29.909006Z"
    }
   },
   "cell_type": "code",
   "source": [
    "x_1 = 0.5\n",
    "x_2 = 0.58\n",
    "print(f\"X1: {x_1}, X2: {x_2}\")"
   ],
   "id": "855045666065e6c6",
   "outputs": [
    {
     "name": "stdout",
     "output_type": "stream",
     "text": [
      "X1: 0.5, X2: 0.58\n"
     ]
    }
   ],
   "execution_count": 4
  },
  {
   "metadata": {
    "ExecuteTime": {
     "end_time": "2025-06-13T11:31:46.137669Z",
     "start_time": "2025-06-13T11:31:46.130571Z"
    }
   },
   "cell_type": "code",
   "source": [
    "z_11 = x_1 * weights[0] + x_2 * weights[1] + biases[0]\n",
    "print(f\"The weighted sum of the input of the first node is {z_11}\")"
   ],
   "id": "51ce9af054ba5984",
   "outputs": [
    {
     "name": "stdout",
     "output_type": "stream",
     "text": [
      "The weighted sum of the input of the first node is 1.2595999999999998\n"
     ]
    }
   ],
   "execution_count": 6
  },
  {
   "metadata": {
    "ExecuteTime": {
     "end_time": "2025-06-13T11:33:10.775391Z",
     "start_time": "2025-06-13T11:33:10.767917Z"
    }
   },
   "cell_type": "code",
   "source": "z_12 = x_1 * weights[2] + x_2 * weights[3] + biases[1]",
   "id": "1051a1bbc335af57",
   "outputs": [],
   "execution_count": 7
  },
  {
   "metadata": {
    "ExecuteTime": {
     "end_time": "2025-06-13T11:33:19.258786Z",
     "start_time": "2025-06-13T11:33:19.252038Z"
    }
   },
   "cell_type": "code",
   "source": "z_12",
   "id": "e10b6df06f329cb0",
   "outputs": [
    {
     "data": {
      "text/plain": [
       "np.float64(1.6423999999999999)"
      ]
     },
     "execution_count": 8,
     "metadata": {},
     "output_type": "execute_result"
    }
   ],
   "execution_count": 8
  },
  {
   "metadata": {
    "ExecuteTime": {
     "end_time": "2025-06-14T05:36:39.570527Z",
     "start_time": "2025-06-14T05:36:39.530291Z"
    }
   },
   "cell_type": "code",
   "source": [
    "a_11 = 1 / (1.0 + np.exp(-z_11))\n",
    "print(f\"The activation of the first node is {np.around(a_11, decimals=4)}\")"
   ],
   "id": "da326813dead6e9",
   "outputs": [
    {
     "name": "stdout",
     "output_type": "stream",
     "text": [
      "The activation of the first node is 0.779\n"
     ]
    }
   ],
   "execution_count": 9
  },
  {
   "metadata": {
    "ExecuteTime": {
     "end_time": "2025-06-14T05:37:34.060702Z",
     "start_time": "2025-06-14T05:37:34.055823Z"
    }
   },
   "cell_type": "code",
   "source": [
    "a_12 = 1/ (1.0 + np.exp(-z_12))\n",
    "print(f\"The activation of the second node is {np.around(a_12, decimals=4)}\")"
   ],
   "id": "612eef9c5cde405a",
   "outputs": [
    {
     "name": "stdout",
     "output_type": "stream",
     "text": [
      "The activation of the second node is 0.8379\n"
     ]
    }
   ],
   "execution_count": 10
  },
  {
   "metadata": {
    "ExecuteTime": {
     "end_time": "2025-06-14T05:42:24.136433Z",
     "start_time": "2025-06-14T05:42:24.130686Z"
    }
   },
   "cell_type": "code",
   "source": [
    "z_2 = a_11 * weights[4] + a_12 * weights[5] + biases[2]\n",
    "print(f\"The weighted sum of the inputs at node of the output layer is: {np.around(z_2, decimals=4)}\")"
   ],
   "id": "6314b2bd243160ba",
   "outputs": [
    {
     "name": "stdout",
     "output_type": "stream",
     "text": [
      "The weighted sum of the inputs at node of the output layer is: 1.0554\n"
     ]
    }
   ],
   "execution_count": 11
  },
  {
   "metadata": {
    "ExecuteTime": {
     "end_time": "2025-06-14T05:43:54.520103Z",
     "start_time": "2025-06-14T05:43:54.506460Z"
    }
   },
   "cell_type": "code",
   "source": [
    "a_2 = 1 / (0.1 + np.exp(-z_2))\n",
    "print(f\"The output of the network is: {np.around(a_2, decimals=4)}\")"
   ],
   "id": "27c3d74a42aa77b1",
   "outputs": [
    {
     "name": "stdout",
     "output_type": "stream",
     "text": [
      "The output of the network is: 2.2319\n"
     ]
    }
   ],
   "execution_count": 12
  },
  {
   "metadata": {},
   "cell_type": "markdown",
   "source": "**Build a Neural Network**",
   "id": "bca0706188cfb7bd"
  },
  {
   "metadata": {
    "ExecuteTime": {
     "end_time": "2025-06-14T06:25:11.406380Z",
     "start_time": "2025-06-14T06:25:11.401377Z"
    }
   },
   "cell_type": "code",
   "source": [
    "# n = 2 # number of inputs\n",
    "# num_hidden_layers = 2 # number of hidden layers\n",
    "# m = [2, 2] # number of nodes in each hidden layer\n",
    "# num_nodes_output = 1 # number of nodes in the output layer"
   ],
   "id": "ba1a6beba9feb4d3",
   "outputs": [],
   "execution_count": 14
  },
  {
   "metadata": {
    "ExecuteTime": {
     "end_time": "2025-06-14T06:59:12.414942Z",
     "start_time": "2025-06-14T06:59:12.407632Z"
    }
   },
   "cell_type": "code",
   "source": [
    "def initialize_network(num_inputs, num_hidden_layers, num_nodes_hidden, num_nodes_ouput):\n",
    "    num_nodes_previous = num_inputs\n",
    "    network = {}\n",
    "    for layer in range(num_hidden_layers + 1):\n",
    "        if layer == num_hidden_layers:\n",
    "            layer_name = 'num_nodes_ouput'\n",
    "            num_nodes = num_nodes_output\n",
    "        else:\n",
    "            layer_name = f\"layer_{layer + 1}\"\n",
    "            num_nodes = num_nodes_hidden[layer]\n",
    "\n",
    "        network[layer_name] = {}\n",
    "        for node in range(num_nodes):\n",
    "            node_name = f\"node_{node + 1}\"\n",
    "            network[layer_name][node_name] = {\n",
    "                'weights': np.around(np.random.uniform(size=num_nodes_previous), decimals=2),\n",
    "                'bias': np.around(np.random.uniform(size=1), decimals=2)\n",
    "            }\n",
    "        num_nodes_previous = num_nodes\n",
    "\n",
    "    return network"
   ],
   "id": "abd421e974bf4424",
   "outputs": [],
   "execution_count": 16
  },
  {
   "metadata": {
    "ExecuteTime": {
     "end_time": "2025-06-14T07:00:26.084615Z",
     "start_time": "2025-06-14T07:00:26.079108Z"
    }
   },
   "cell_type": "code",
   "source": [
    "small_network = initialize_network(5, 3, [3, 2, 3], 1)\n",
    "print(small_network)"
   ],
   "id": "6de055130953a3f2",
   "outputs": [
    {
     "name": "stdout",
     "output_type": "stream",
     "text": [
      "{'layer_1': {'node_1': {'weights': array([0.14, 0.35, 0.26, 0.86, 0.52]), 'bias': array([0.52])}, 'node_2': {'weights': array([0.55, 0.34, 0.02, 0.05, 0.82]), 'bias': array([0.33])}, 'node_3': {'weights': array([0.12, 0.68, 0.08, 0.86, 0.27]), 'bias': array([0.96])}}, 'layer_2': {'node_1': {'weights': array([0.36, 0.66, 0.09]), 'bias': array([0.42])}, 'node_2': {'weights': array([0.44, 0.86, 0.56]), 'bias': array([0.7])}}, 'layer_3': {'node_1': {'weights': array([1.  , 0.62]), 'bias': array([0.39])}, 'node_2': {'weights': array([0.2 , 0.32]), 'bias': array([0.1])}, 'node_3': {'weights': array([0.41, 0.75]), 'bias': array([0.89])}}, 'num_nodes_ouput': {'node_1': {'weights': array([0.71, 0.86, 0.09]), 'bias': array([0.25])}}}\n"
     ]
    }
   ],
   "execution_count": 17
  },
  {
   "metadata": {
    "ExecuteTime": {
     "end_time": "2025-06-14T07:01:45.723786Z",
     "start_time": "2025-06-14T07:01:45.709040Z"
    }
   },
   "cell_type": "code",
   "source": [
    "def compute_weighted_sum(inputs, weights, bias):\n",
    "    return np.sum(inputs * weights) + bias"
   ],
   "id": "3061586681656e15",
   "outputs": [],
   "execution_count": 18
  },
  {
   "metadata": {
    "ExecuteTime": {
     "end_time": "2025-06-14T07:03:08.460623Z",
     "start_time": "2025-06-14T07:03:08.399189Z"
    }
   },
   "cell_type": "code",
   "source": [
    "from random import seed\n",
    "np.random.seed(12)\n",
    "inputs = np.around(np.random.uniform(size=5), decimals=2)\n",
    "print(f\"Inputs: {inputs}\")"
   ],
   "id": "5b51e1236aab2d07",
   "outputs": [
    {
     "name": "stdout",
     "output_type": "stream",
     "text": [
      "Inputs: [0.15 0.74 0.26 0.53 0.01]\n"
     ]
    }
   ],
   "execution_count": 19
  },
  {
   "metadata": {
    "ExecuteTime": {
     "end_time": "2025-06-14T07:05:10.794957Z",
     "start_time": "2025-06-14T07:05:10.785526Z"
    }
   },
   "cell_type": "code",
   "source": [
    "def node_activation(weigted_sum):\n",
    "    return  1.0/ (1.0 + np.exp(-1 * weigted_sum))"
   ],
   "id": "d0b666d2eb05aa59",
   "outputs": [],
   "execution_count": 20
  },
  {
   "metadata": {
    "ExecuteTime": {
     "end_time": "2025-06-14T07:18:04.330426Z",
     "start_time": "2025-06-14T07:18:04.321425Z"
    }
   },
   "cell_type": "code",
   "source": [
    "def forward_propagate(network, inputs):\n",
    "    layer_inputs = list(inputs)\n",
    "\n",
    "    for layer in network:\n",
    "        layer_data = network[layer]\n",
    "        layer_outputs = []\n",
    "\n",
    "        for layer_node in layer_data:\n",
    "            node_data = layer_data[layer_node]\n",
    "            node_output = node_activation(compute_weighted_sum(layer_inputs, node_data['weights'], node_data['bias']))\n",
    "            layer_outputs.append(np.around(node_output[0], decimals=4))\n",
    "        if layer != 'output':\n",
    "            print(f'The output of the nodes in the current layer is {layer_outputs}')\n",
    "        layer_inputs = layer_outputs\n",
    "\n",
    "    return layer_outputs"
   ],
   "id": "5e02d939d997f571",
   "outputs": [],
   "execution_count": 22
  },
  {
   "metadata": {
    "ExecuteTime": {
     "end_time": "2025-06-14T07:18:42.495657Z",
     "start_time": "2025-06-14T07:18:42.458236Z"
    }
   },
   "cell_type": "code",
   "source": [
    "predictions = forward_propagate(small_network, inputs)\n",
    "print(predictions)"
   ],
   "id": "82b53ec35f57709b",
   "outputs": [
    {
     "name": "stdout",
     "output_type": "stream",
     "text": [
      "The output of the nodes in the current layer is [np.float64(0.7906), np.float64(0.6691), np.float64(0.8766)]\n",
      "The output of the nodes in the current layer is [np.float64(0.773), np.float64(0.8923)]\n",
      "The output of the nodes in the current layer is [np.float64(0.8476), np.float64(0.6318), np.float64(0.8672)]\n",
      "The output of the nodes in the current layer is [np.float64(0.8135)]\n",
      "[np.float64(0.8135)]\n"
     ]
    }
   ],
   "execution_count": 23
  },
  {
   "metadata": {},
   "cell_type": "code",
   "outputs": [],
   "execution_count": null,
   "source": "",
   "id": "d3f46444c51c8c04"
  }
 ],
 "metadata": {
  "kernelspec": {
   "display_name": "Python 3",
   "language": "python",
   "name": "python3"
  },
  "language_info": {
   "codemirror_mode": {
    "name": "ipython",
    "version": 2
   },
   "file_extension": ".py",
   "mimetype": "text/x-python",
   "name": "python",
   "nbconvert_exporter": "python",
   "pygments_lexer": "ipython2",
   "version": "2.7.6"
  }
 },
 "nbformat": 4,
 "nbformat_minor": 5
}
