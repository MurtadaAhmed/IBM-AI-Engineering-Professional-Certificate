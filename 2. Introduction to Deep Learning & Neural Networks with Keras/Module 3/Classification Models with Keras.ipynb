{
 "cells": [
  {
   "cell_type": "code",
   "id": "initial_id",
   "metadata": {
    "collapsed": true,
    "ExecuteTime": {
     "end_time": "2025-06-15T14:08:24.708597Z",
     "start_time": "2025-06-15T14:08:24.700892Z"
    }
   },
   "source": [
    "import os\n",
    "os.environ['TF_ENABLE_ONEDNN_OPTS'] = '0'\n",
    "os.environ['TF_CPP_MIN_LOG_LEVEL'] = '2'"
   ],
   "outputs": [],
   "execution_count": 1
  },
  {
   "metadata": {
    "ExecuteTime": {
     "end_time": "2025-06-15T16:09:00.839016Z",
     "start_time": "2025-06-15T16:09:00.834392Z"
    }
   },
   "cell_type": "code",
   "source": [
    "import keras\n",
    "from keras.models import Sequential\n",
    "from keras.layers import Dense\n",
    "from keras.layers import Input\n",
    "from keras.utils import to_categorical\n",
    "import matplotlib.pyplot as plt"
   ],
   "id": "94237f90535955a5",
   "outputs": [],
   "execution_count": 20
  },
  {
   "metadata": {
    "ExecuteTime": {
     "end_time": "2025-06-15T16:11:04.158757Z",
     "start_time": "2025-06-15T16:11:03.950600Z"
    }
   },
   "cell_type": "code",
   "source": [
    "from keras.datasets import mnist\n",
    "\n",
    "(X_train, y_train), (X_test, y_test) = mnist.load_data()"
   ],
   "id": "cbcd54724d6a2add",
   "outputs": [],
   "execution_count": 30
  },
  {
   "metadata": {
    "ExecuteTime": {
     "end_time": "2025-06-15T16:11:17.322337Z",
     "start_time": "2025-06-15T16:11:17.317196Z"
    }
   },
   "cell_type": "code",
   "source": "X_train.shape",
   "id": "ee51fc4a86338a9",
   "outputs": [
    {
     "data": {
      "text/plain": [
       "(60000, 28, 28)"
      ]
     },
     "execution_count": 31,
     "metadata": {},
     "output_type": "execute_result"
    }
   ],
   "execution_count": 31
  },
  {
   "metadata": {
    "ExecuteTime": {
     "end_time": "2025-06-15T16:11:23.714920Z",
     "start_time": "2025-06-15T16:11:23.607692Z"
    }
   },
   "cell_type": "code",
   "source": "plt.imshow(X_train[0])",
   "id": "e2f7d929c85bfc0f",
   "outputs": [
    {
     "data": {
      "text/plain": [
       "<matplotlib.image.AxesImage at 0x1b1d21f7ec0>"
      ]
     },
     "execution_count": 32,
     "metadata": {},
     "output_type": "execute_result"
    },
    {
     "data": {
      "text/plain": [
       "<Figure size 640x480 with 1 Axes>"
      ],
      "image/png": "[encoded data removed]"
     },
     "metadata": {},
     "output_type": "display_data"
    }
   ],
   "execution_count": 32
  },
  {
   "metadata": {
    "ExecuteTime": {
     "end_time": "2025-06-15T16:11:37.513594Z",
     "start_time": "2025-06-15T16:11:37.443136Z"
    }
   },
   "cell_type": "code",
   "source": [
    "# flatten the image into one-dimensional vector\n",
    "num_pixels = X_train.shape[1] * X_train.shape[2]\n",
    "\n",
    "X_train = X_train.reshape(X_train.shape[0], num_pixels).astype('float32') # flatten training images\n",
    "X_test = X_test.reshape(X_test.shape[0], num_pixels).astype('float32') # flatten test images"
   ],
   "id": "7a71b53052ad688f",
   "outputs": [],
   "execution_count": 33
  },
  {
   "metadata": {
    "ExecuteTime": {
     "end_time": "2025-06-15T16:11:45.268133Z",
     "start_time": "2025-06-15T16:11:45.166821Z"
    }
   },
   "cell_type": "code",
   "source": [
    "X_train = X_train / 255\n",
    "X_test = X_test / 255"
   ],
   "id": "8869006cbd29c481",
   "outputs": [],
   "execution_count": 34
  },
  {
   "metadata": {
    "ExecuteTime": {
     "end_time": "2025-06-15T16:12:00.167709Z",
     "start_time": "2025-06-15T16:12:00.162127Z"
    }
   },
   "cell_type": "code",
   "source": [
    "y_train = to_categorical(y_train)\n",
    "y_test = to_categorical(y_test)\n",
    "\n",
    "num_classes = y_test.shape[1]\n",
    "print(num_classes)"
   ],
   "id": "ffb2c764f2c7d5c0",
   "outputs": [
    {
     "name": "stdout",
     "output_type": "stream",
     "text": [
      "10\n"
     ]
    }
   ],
   "execution_count": 35
  },
  {
   "metadata": {
    "ExecuteTime": {
     "end_time": "2025-06-15T16:12:12.008208Z",
     "start_time": "2025-06-15T16:12:12.003725Z"
    }
   },
   "cell_type": "code",
   "source": [
    "def classification_model():\n",
    "\n",
    "\n",
    "    model = Sequential()\n",
    "    model.add(Input(shape=(num_pixels,)))\n",
    "    model.add(Dense(num_pixels, activation='relu'))\n",
    "    model.add(Dense(100, activation='relu'))\n",
    "    model.add(Dense(num_classes, activation='softmax'))\n",
    "\n",
    "\n",
    "    model.compile(optimizer='adam', loss='categorical_crossentropy', metrics=['accuracy'])\n",
    "    return model"
   ],
   "id": "dae3be6de7097157",
   "outputs": [],
   "execution_count": 36
  },
  {
   "metadata": {
    "ExecuteTime": {
     "end_time": "2025-06-15T16:14:23.251429Z",
     "start_time": "2025-06-15T16:12:20.130819Z"
    }
   },
   "cell_type": "code",
   "source": [
    "model = classification_model()\n",
    "\n",
    "# fit the model\n",
    "model.fit(X_train, y_train, validation_data=(X_test, y_test), epochs=10, verbose=2)\n",
    "\n",
    "# evaluate the model\n",
    "scores = model.evaluate(X_test, y_test, verbose=0)"
   ],
   "id": "738a78cc297640a",
   "outputs": [
    {
     "name": "stdout",
     "output_type": "stream",
     "text": [
      "Epoch 1/10\n",
      "1875/1875 - 14s - 8ms/step - accuracy: 0.9428 - loss: 0.1862 - val_accuracy: 0.9683 - val_loss: 0.1028\n",
      "Epoch 2/10\n",
      "1875/1875 - 12s - 7ms/step - accuracy: 0.9754 - loss: 0.0795 - val_accuracy: 0.9730 - val_loss: 0.0903\n",
      "Epoch 3/10\n",
      "1875/1875 - 12s - 7ms/step - accuracy: 0.9833 - loss: 0.0538 - val_accuracy: 0.9757 - val_loss: 0.0766\n",
      "Epoch 4/10\n",
      "1875/1875 - 12s - 7ms/step - accuracy: 0.9870 - loss: 0.0409 - val_accuracy: 0.9718 - val_loss: 0.0997\n",
      "Epoch 5/10\n",
      "1875/1875 - 12s - 6ms/step - accuracy: 0.9898 - loss: 0.0322 - val_accuracy: 0.9719 - val_loss: 0.0977\n",
      "Epoch 6/10\n",
      "1875/1875 - 12s - 6ms/step - accuracy: 0.9914 - loss: 0.0267 - val_accuracy: 0.9792 - val_loss: 0.0806\n",
      "Epoch 7/10\n",
      "1875/1875 - 12s - 6ms/step - accuracy: 0.9928 - loss: 0.0217 - val_accuracy: 0.9814 - val_loss: 0.0769\n",
      "Epoch 8/10\n",
      "1875/1875 - 12s - 6ms/step - accuracy: 0.9939 - loss: 0.0191 - val_accuracy: 0.9795 - val_loss: 0.0972\n",
      "Epoch 9/10\n",
      "1875/1875 - 13s - 7ms/step - accuracy: 0.9951 - loss: 0.0155 - val_accuracy: 0.9820 - val_loss: 0.0945\n",
      "Epoch 10/10\n",
      "1875/1875 - 12s - 6ms/step - accuracy: 0.9942 - loss: 0.0176 - val_accuracy: 0.9806 - val_loss: 0.0894\n"
     ]
    }
   ],
   "execution_count": 37
  },
  {
   "metadata": {
    "ExecuteTime": {
     "end_time": "2025-06-15T16:14:41.221897Z",
     "start_time": "2025-06-15T16:14:41.214842Z"
    }
   },
   "cell_type": "code",
   "source": "scores",
   "id": "bd887c6cf5c2961e",
   "outputs": [
    {
     "data": {
      "text/plain": [
       "[0.08942421525716782, 0.9805999994277954]"
      ]
     },
     "execution_count": 38,
     "metadata": {},
     "output_type": "execute_result"
    }
   ],
   "execution_count": 38
  },
  {
   "metadata": {
    "ExecuteTime": {
     "end_time": "2025-06-15T16:15:12.203508Z",
     "start_time": "2025-06-15T16:15:12.197823Z"
    }
   },
   "cell_type": "code",
   "source": "print(f\"Accuracy: {scores[1]}\")",
   "id": "6eee6e51a9482f60",
   "outputs": [
    {
     "name": "stdout",
     "output_type": "stream",
     "text": [
      "Accuracy: 0.9805999994277954\n"
     ]
    }
   ],
   "execution_count": 39
  },
  {
   "metadata": {
    "ExecuteTime": {
     "end_time": "2025-06-15T16:15:39.622534Z",
     "start_time": "2025-06-15T16:15:39.616531Z"
    }
   },
   "cell_type": "code",
   "source": "print(f\"Error: {1 - scores[1]}\")",
   "id": "8a57ed8133dbb6b8",
   "outputs": [
    {
     "name": "stdout",
     "output_type": "stream",
     "text": [
      "Error: 0.01940000057220459\n"
     ]
    }
   ],
   "execution_count": 40
  },
  {
   "metadata": {
    "ExecuteTime": {
     "end_time": "2025-06-15T16:16:24.891433Z",
     "start_time": "2025-06-15T16:16:24.435368Z"
    }
   },
   "cell_type": "code",
   "source": "model.save(\"classification_model.keras\")",
   "id": "af53d7b58a7cb1de",
   "outputs": [],
   "execution_count": 42
  },
  {
   "metadata": {
    "ExecuteTime": {
     "end_time": "2025-06-15T16:17:43.142770Z",
     "start_time": "2025-06-15T16:17:42.992539Z"
    }
   },
   "cell_type": "code",
   "source": "pretrained_model = keras.saving.load_model(\"classification_model.keras\")",
   "id": "2742b5dde62f72b6",
   "outputs": [],
   "execution_count": 43
  },
  {
   "metadata": {
    "ExecuteTime": {
     "end_time": "2025-06-15T16:20:56.124643Z",
     "start_time": "2025-06-15T16:18:45.317884Z"
    }
   },
   "cell_type": "code",
   "source": [
    "def classification_model_6layers():\n",
    "    # create model\n",
    "\n",
    "    model = Sequential()\n",
    "    model.add(Input(shape=(num_pixels,)))\n",
    "    model.add(Dense(num_pixels, activation='relu'))\n",
    "    model.add(Dense(100, activation='relu'))\n",
    "    model.add(Dense(100, activation='relu'))\n",
    "    model.add(Dense(100, activation='relu'))\n",
    "    model.add(Dense(100, activation='relu'))\n",
    "    model.add(Dense(num_classes, activation='softmax'))\n",
    "\n",
    "\n",
    "    # compile model\n",
    "    model.compile(optimizer='adam', loss='categorical_crossentropy', metrics=['accuracy'])\n",
    "    return model\n",
    "\n",
    "# build the model\n",
    "model_6layers = classification_model_6layers()\n",
    "\n",
    "# fit the model\n",
    "model_6layers.fit(X_train, y_train, validation_data=(X_test, y_test), epochs=10, verbose=2)\n",
    "\n",
    "# evaluate the model\n",
    "scores_6layers = model_6layers.evaluate(X_test, y_test, verbose=0)\n",
    "\n",
    "print('Accuracy_3_layers: {}% \\n Accuracy_6_layers: {}'.format(scores[1], scores_6layers[1]))"
   ],
   "id": "8d22d3e59a900a48",
   "outputs": [
    {
     "name": "stdout",
     "output_type": "stream",
     "text": [
      "Epoch 1/10\n",
      "1875/1875 - 15s - 8ms/step - accuracy: 0.9346 - loss: 0.2181 - val_accuracy: 0.9603 - val_loss: 0.1320\n",
      "Epoch 2/10\n",
      "1875/1875 - 13s - 7ms/step - accuracy: 0.9714 - loss: 0.1003 - val_accuracy: 0.9735 - val_loss: 0.0889\n",
      "Epoch 3/10\n",
      "1875/1875 - 12s - 7ms/step - accuracy: 0.9788 - loss: 0.0720 - val_accuracy: 0.9742 - val_loss: 0.0973\n",
      "Epoch 4/10\n",
      "1875/1875 - 13s - 7ms/step - accuracy: 0.9836 - loss: 0.0566 - val_accuracy: 0.9721 - val_loss: 0.0988\n",
      "Epoch 5/10\n",
      "1875/1875 - 13s - 7ms/step - accuracy: 0.9862 - loss: 0.0464 - val_accuracy: 0.9792 - val_loss: 0.0832\n",
      "Epoch 6/10\n",
      "1875/1875 - 14s - 8ms/step - accuracy: 0.9881 - loss: 0.0405 - val_accuracy: 0.9781 - val_loss: 0.0840\n",
      "Epoch 7/10\n",
      "1875/1875 - 12s - 6ms/step - accuracy: 0.9904 - loss: 0.0329 - val_accuracy: 0.9809 - val_loss: 0.0840\n",
      "Epoch 8/10\n",
      "1875/1875 - 12s - 7ms/step - accuracy: 0.9908 - loss: 0.0300 - val_accuracy: 0.9808 - val_loss: 0.0833\n",
      "Epoch 9/10\n",
      "1875/1875 - 12s - 7ms/step - accuracy: 0.9926 - loss: 0.0273 - val_accuracy: 0.9772 - val_loss: 0.1086\n",
      "Epoch 10/10\n",
      "1875/1875 - 12s - 7ms/step - accuracy: 0.9931 - loss: 0.0240 - val_accuracy: 0.9812 - val_loss: 0.0908\n",
      "Accuracy_3_layers: 0.9805999994277954% \n",
      " Accuracy_6_layers: 0.9811999797821045\n"
     ]
    }
   ],
   "execution_count": 44
  },
  {
   "metadata": {
    "ExecuteTime": {
     "end_time": "2025-06-15T16:23:12.518117Z",
     "start_time": "2025-06-15T16:21:13.066840Z"
    }
   },
   "cell_type": "code",
   "source": [
    "#load the saved model\n",
    "pretrained_model = keras.saving.load_model('classification_model.keras')\n",
    "\n",
    "print(\"Pre-trained model loaded successufully\")\n",
    "\n",
    "# Further train the loaded model\n",
    "pretrained_model.fit(X_train, y_train, validation_data=(X_test, y_test), epochs=10, verbose=2)\n",
    "\n",
    "# evaluate the model\n",
    "scores_20_epochs = pretrained_model.evaluate(X_test, y_test, verbose=0)\n",
    "print('Accuracy_10_epochs: {}% \\n Accuracy_20_epochs: {}'.format(scores[1], scores_20_epochs[1]))"
   ],
   "id": "983cd405cf89c308",
   "outputs": [
    {
     "name": "stdout",
     "output_type": "stream",
     "text": [
      "Pre-trained model loaded successufully\n",
      "Epoch 1/10\n",
      "1875/1875 - 12s - 7ms/step - accuracy: 0.9950 - loss: 0.0160 - val_accuracy: 0.9798 - val_loss: 0.0952\n",
      "Epoch 2/10\n",
      "1875/1875 - 13s - 7ms/step - accuracy: 0.9958 - loss: 0.0125 - val_accuracy: 0.9810 - val_loss: 0.0977\n",
      "Epoch 3/10\n",
      "1875/1875 - 12s - 6ms/step - accuracy: 0.9961 - loss: 0.0120 - val_accuracy: 0.9805 - val_loss: 0.1051\n",
      "Epoch 4/10\n",
      "1875/1875 - 11s - 6ms/step - accuracy: 0.9964 - loss: 0.0121 - val_accuracy: 0.9818 - val_loss: 0.0998\n",
      "Epoch 5/10\n",
      "1875/1875 - 11s - 6ms/step - accuracy: 0.9966 - loss: 0.0118 - val_accuracy: 0.9815 - val_loss: 0.1021\n",
      "Epoch 6/10\n",
      "1875/1875 - 12s - 6ms/step - accuracy: 0.9961 - loss: 0.0129 - val_accuracy: 0.9800 - val_loss: 0.1319\n",
      "Epoch 7/10\n",
      "1875/1875 - 13s - 7ms/step - accuracy: 0.9969 - loss: 0.0110 - val_accuracy: 0.9809 - val_loss: 0.1182\n",
      "Epoch 8/10\n",
      "1875/1875 - 12s - 6ms/step - accuracy: 0.9966 - loss: 0.0108 - val_accuracy: 0.9807 - val_loss: 0.1176\n",
      "Epoch 9/10\n",
      "1875/1875 - 11s - 6ms/step - accuracy: 0.9971 - loss: 0.0102 - val_accuracy: 0.9841 - val_loss: 0.0918\n",
      "Epoch 10/10\n",
      "1875/1875 - 12s - 6ms/step - accuracy: 0.9974 - loss: 0.0081 - val_accuracy: 0.9786 - val_loss: 0.1439\n",
      "Accuracy_10_epochs: 0.9805999994277954% \n",
      " Accuracy_20_epochs: 0.978600025177002\n"
     ]
    }
   ],
   "execution_count": 45
  },
  {
   "metadata": {},
   "cell_type": "code",
   "outputs": [],
   "execution_count": null,
   "source": "",
   "id": "21f152f2f03ef013"
  }
 ],
 "metadata": {
  "kernelspec": {
   "display_name": "Python 3",
   "language": "python",
   "name": "python3"
  },
  "language_info": {
   "codemirror_mode": {
    "name": "ipython",
    "version": 2
   },
   "file_extension": ".py",
   "mimetype": "text/x-python",
   "name": "python",
   "nbconvert_exporter": "python",
   "pygments_lexer": "ipython2",
   "version": "2.7.6"
  }
 },
 "nbformat": 4,
 "nbformat_minor": 5
}
